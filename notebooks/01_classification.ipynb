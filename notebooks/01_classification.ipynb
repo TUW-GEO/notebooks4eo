{
  "cells": [
    {
      "cell_type": "raw",
      "metadata": {},
      "source": [
        "---\n",
        "title: Classification\n",
        "author: Pikall Nikolas\n",
        "keep-ipynb: true\n",
        "---"
      ]
    },
    {
      "cell_type": "code",
      "execution_count": null,
      "metadata": {
        "vscode": {
          "languageId": "python"
        }
      },
      "outputs": [],
      "source": [
        "#| echo: true\n",
        "#| code-fold: true\n",
        "# Imports\n",
        "import os\n",
        "import  xarray as xr\n",
        "import numpy as np\n",
        "import datetime as dt\n",
        "import cmcrameri as cmc\n",
        "import folium\n",
        "from dotenv import dotenv_values\n",
        "\n",
        "from eodag import EODataAccessGateway, SearchResult, setup_logging\n",
        "from rasterio.crs import CRS\n",
        "\n",
        "# Setup logging\n",
        "setup_logging(0)"
      ]
    }
  ],
  "metadata": {
    "kernelspec": {
      "display_name": "01_classification",
      "language": "python",
      "name": "01_classification"
    }
  },
  "nbformat": 4,
  "nbformat_minor": 4
}
